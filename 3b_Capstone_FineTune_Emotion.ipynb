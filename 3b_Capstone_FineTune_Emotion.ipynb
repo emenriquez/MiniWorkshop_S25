{
 "cells": [
  {
   "cell_type": "markdown",
   "id": "4bca4352",
   "metadata": {},
   "source": [
    "# 🎓 Capstone: Fine-Tuning a Language Model for Emotion Classification"
   ]
  },
  {
   "cell_type": "markdown",
   "id": "d951baa1",
   "metadata": {},
   "source": [
    "Welcome to the final workshop notebook! In this exercise, you'll fine-tune a pretrained transformer model on the **Emotion** dataset. This dataset includes short text samples labeled with one of six emotions:\n",
    "\n",
    "- joy, sadness, anger, fear, surprise, love\n",
    "\n",
    "You'll use all the skills you've practiced: tokenization, model loading, training, and evaluation — plus new ideas like zero-shot classification and planning your own projects."
   ]
  },
  {
   "cell_type": "markdown",
   "id": "0c6e5cac",
   "metadata": {},
   "source": [
    "## 📂 Part 1: Load and Explore the Dataset"
   ]
  },
  {
   "cell_type": "code",
   "execution_count": 2,
   "id": "86070dca",
   "metadata": {},
   "outputs": [
    {
     "name": "stderr",
     "output_type": "stream",
     "text": [
      "/home/erik/Research/MiniWorkshop_S25/.venv/lib/python3.12/site-packages/tqdm/auto.py:21: TqdmWarning: IProgress not found. Please update jupyter and ipywidgets. See https://ipywidgets.readthedocs.io/en/stable/user_install.html\n",
      "  from .autonotebook import tqdm as notebook_tqdm\n"
     ]
    },
    {
     "data": {
      "text/plain": [
       "{'text': 'i didnt feel humiliated', 'label': 0}"
      ]
     },
     "execution_count": 2,
     "metadata": {},
     "output_type": "execute_result"
    }
   ],
   "source": [
    "from datasets import load_dataset\n",
    "dataset = load_dataset('emotion')\n",
    "dataset['train'][0]"
   ]
  },
  {
   "cell_type": "markdown",
   "id": "9e23f585",
   "metadata": {},
   "source": [
    "### 🔍 Challenge: How many examples are there per emotion?\n",
    "Try using `dataset['train'].features` and simple loops or `pandas` to summarize the labels."
   ]
  },
  {
   "cell_type": "markdown",
   "id": "e1d8ee44",
   "metadata": {},
   "source": [
    "## ✂️ Part 2: Tokenize the Dataset"
   ]
  },
  {
   "cell_type": "code",
   "execution_count": 4,
   "id": "ef873f71",
   "metadata": {},
   "outputs": [
    {
     "name": "stderr",
     "output_type": "stream",
     "text": [
      "Map: 100%|██████████| 2000/2000 [00:00<00:00, 6520.09 examples/s]\n"
     ]
    }
   ],
   "source": [
    "from transformers import DistilBertTokenizerFast\n",
    "tokenizer = DistilBertTokenizerFast.from_pretrained('distilbert-base-uncased')\n",
    "\n",
    "def tokenize(example):\n",
    "    return tokenizer(example['text'], truncation=True, padding='max_length')\n",
    "\n",
    "tokenized = dataset.map(tokenize, batched=True)\n",
    "tokenized = tokenized.remove_columns(['text'])\n",
    "tokenized.set_format('torch')"
   ]
  },
  {
   "cell_type": "markdown",
   "id": "ead322dc",
   "metadata": {},
   "source": [
    "## 🧠 Part 3: Load Pretrained Model"
   ]
  },
  {
   "cell_type": "code",
   "execution_count": 5,
   "id": "917f3fc7",
   "metadata": {},
   "outputs": [
    {
     "name": "stderr",
     "output_type": "stream",
     "text": [
      "Some weights of DistilBertForSequenceClassification were not initialized from the model checkpoint at distilbert-base-uncased and are newly initialized: ['classifier.bias', 'classifier.weight', 'pre_classifier.bias', 'pre_classifier.weight']\n",
      "You should probably TRAIN this model on a down-stream task to be able to use it for predictions and inference.\n"
     ]
    }
   ],
   "source": [
    "from transformers import AutoModelForSequenceClassification\n",
    "\n",
    "# TODO: Load model with 6 output labels (for the 6 emotions in the dataset)\n",
    "model = AutoModelForSequenceClassification.from_pretrained(\n",
    "    'distilbert-base-uncased',\n",
    "    num_labels=6\n",
    ")"
   ]
  },
  {
   "cell_type": "markdown",
   "id": "ffa977d3",
   "metadata": {},
   "source": [
    "## 🚀 Part 4: Fine-Tune the Model\n",
    "\n",
    "Fill in the arguments below to build your Trainer to fine-tune the model. Some parts are filled in for you already.\n",
    "\n",
    "**NOTE:** This is a larger dataset! So make sure not to try and train for too many epochs. Start with a small number (2 or 3) and go up from there if you need to."
   ]
  },
  {
   "cell_type": "code",
   "execution_count": 6,
   "id": "550459ba",
   "metadata": {},
   "outputs": [
    {
     "name": "stderr",
     "output_type": "stream",
     "text": [
      "/tmp/ipykernel_42131/4103088701.py:17: FutureWarning: `tokenizer` is deprecated and will be removed in version 5.0.0 for `Trainer.__init__`. Use `processing_class` instead.\n",
      "  trainer = Trainer(\n"
     ]
    },
    {
     "data": {
      "text/html": [
       "\n",
       "    <div>\n",
       "      \n",
       "      <progress value='3000' max='3000' style='width:300px; height:20px; vertical-align: middle;'></progress>\n",
       "      [3000/3000 19:17, Epoch 3/3]\n",
       "    </div>\n",
       "    <table border=\"1\" class=\"dataframe\">\n",
       "  <thead>\n",
       " <tr style=\"text-align: left;\">\n",
       "      <th>Step</th>\n",
       "      <th>Training Loss</th>\n",
       "      <th>Validation Loss</th>\n",
       "    </tr>\n",
       "  </thead>\n",
       "  <tbody>\n",
       "    <tr>\n",
       "      <td>100</td>\n",
       "      <td>No log</td>\n",
       "      <td>1.067747</td>\n",
       "    </tr>\n",
       "    <tr>\n",
       "      <td>200</td>\n",
       "      <td>No log</td>\n",
       "      <td>0.628343</td>\n",
       "    </tr>\n",
       "    <tr>\n",
       "      <td>300</td>\n",
       "      <td>No log</td>\n",
       "      <td>0.422641</td>\n",
       "    </tr>\n",
       "    <tr>\n",
       "      <td>400</td>\n",
       "      <td>No log</td>\n",
       "      <td>0.316672</td>\n",
       "    </tr>\n",
       "    <tr>\n",
       "      <td>500</td>\n",
       "      <td>0.698500</td>\n",
       "      <td>0.255906</td>\n",
       "    </tr>\n",
       "    <tr>\n",
       "      <td>600</td>\n",
       "      <td>0.698500</td>\n",
       "      <td>0.235214</td>\n",
       "    </tr>\n",
       "    <tr>\n",
       "      <td>700</td>\n",
       "      <td>0.698500</td>\n",
       "      <td>0.236051</td>\n",
       "    </tr>\n",
       "    <tr>\n",
       "      <td>800</td>\n",
       "      <td>0.698500</td>\n",
       "      <td>0.212493</td>\n",
       "    </tr>\n",
       "    <tr>\n",
       "      <td>900</td>\n",
       "      <td>0.698500</td>\n",
       "      <td>0.185259</td>\n",
       "    </tr>\n",
       "    <tr>\n",
       "      <td>1000</td>\n",
       "      <td>0.238500</td>\n",
       "      <td>0.184721</td>\n",
       "    </tr>\n",
       "    <tr>\n",
       "      <td>1100</td>\n",
       "      <td>0.238500</td>\n",
       "      <td>0.195552</td>\n",
       "    </tr>\n",
       "    <tr>\n",
       "      <td>1200</td>\n",
       "      <td>0.238500</td>\n",
       "      <td>0.176721</td>\n",
       "    </tr>\n",
       "    <tr>\n",
       "      <td>1300</td>\n",
       "      <td>0.238500</td>\n",
       "      <td>0.178929</td>\n",
       "    </tr>\n",
       "    <tr>\n",
       "      <td>1400</td>\n",
       "      <td>0.238500</td>\n",
       "      <td>0.177732</td>\n",
       "    </tr>\n",
       "    <tr>\n",
       "      <td>1500</td>\n",
       "      <td>0.142500</td>\n",
       "      <td>0.166242</td>\n",
       "    </tr>\n",
       "    <tr>\n",
       "      <td>1600</td>\n",
       "      <td>0.142500</td>\n",
       "      <td>0.169625</td>\n",
       "    </tr>\n",
       "    <tr>\n",
       "      <td>1700</td>\n",
       "      <td>0.142500</td>\n",
       "      <td>0.169625</td>\n",
       "    </tr>\n",
       "    <tr>\n",
       "      <td>1800</td>\n",
       "      <td>0.142500</td>\n",
       "      <td>0.164243</td>\n",
       "    </tr>\n",
       "    <tr>\n",
       "      <td>1900</td>\n",
       "      <td>0.142500</td>\n",
       "      <td>0.144007</td>\n",
       "    </tr>\n",
       "    <tr>\n",
       "      <td>2000</td>\n",
       "      <td>0.146500</td>\n",
       "      <td>0.167121</td>\n",
       "    </tr>\n",
       "    <tr>\n",
       "      <td>2100</td>\n",
       "      <td>0.146500</td>\n",
       "      <td>0.160464</td>\n",
       "    </tr>\n",
       "    <tr>\n",
       "      <td>2200</td>\n",
       "      <td>0.146500</td>\n",
       "      <td>0.165803</td>\n",
       "    </tr>\n",
       "    <tr>\n",
       "      <td>2300</td>\n",
       "      <td>0.146500</td>\n",
       "      <td>0.174297</td>\n",
       "    </tr>\n",
       "    <tr>\n",
       "      <td>2400</td>\n",
       "      <td>0.146500</td>\n",
       "      <td>0.151947</td>\n",
       "    </tr>\n",
       "    <tr>\n",
       "      <td>2500</td>\n",
       "      <td>0.104700</td>\n",
       "      <td>0.150971</td>\n",
       "    </tr>\n",
       "    <tr>\n",
       "      <td>2600</td>\n",
       "      <td>0.104700</td>\n",
       "      <td>0.145466</td>\n",
       "    </tr>\n",
       "    <tr>\n",
       "      <td>2700</td>\n",
       "      <td>0.104700</td>\n",
       "      <td>0.145003</td>\n",
       "    </tr>\n",
       "    <tr>\n",
       "      <td>2800</td>\n",
       "      <td>0.104700</td>\n",
       "      <td>0.150009</td>\n",
       "    </tr>\n",
       "    <tr>\n",
       "      <td>2900</td>\n",
       "      <td>0.104700</td>\n",
       "      <td>0.143259</td>\n",
       "    </tr>\n",
       "    <tr>\n",
       "      <td>3000</td>\n",
       "      <td>0.091400</td>\n",
       "      <td>0.143881</td>\n",
       "    </tr>\n",
       "  </tbody>\n",
       "</table><p>"
      ],
      "text/plain": [
       "<IPython.core.display.HTML object>"
      ]
     },
     "metadata": {},
     "output_type": "display_data"
    },
    {
     "data": {
      "text/plain": [
       "TrainOutput(global_step=3000, training_loss=0.2369939422607422, metrics={'train_runtime': 1158.3983, 'train_samples_per_second': 41.437, 'train_steps_per_second': 2.59, 'total_flos': 6358888710144000.0, 'train_loss': 0.2369939422607422, 'epoch': 3.0})"
      ]
     },
     "execution_count": 6,
     "metadata": {},
     "output_type": "execute_result"
    }
   ],
   "source": [
    "from transformers import TrainingArguments, Trainer, DataCollatorWithPadding\n",
    "\n",
    "args = TrainingArguments(\n",
    "    output_dir='./results',\n",
    "    eval_strategy='steps', # Evaluate every eval_steps\n",
    "    eval_steps=100,\n",
    "    logging_steps=100,\n",
    "    learning_rate=2e-5,\n",
    "    per_device_train_batch_size=16,\n",
    "    num_train_epochs=2,\n",
    "    weight_decay=0.01,\n",
    "    logging_dir='./logs'\n",
    ")\n",
    "\n",
    "data_collator = DataCollatorWithPadding(tokenizer=tokenizer)\n",
    "\n",
    "# TODO: Fill in the Trainer constructor\n",
    "trainer = Trainer(\n",
    "    model=model,\n",
    "    args=args,\n",
    "    train_dataset=tokenized['train'],\n",
    "    eval_dataset=tokenized['validation'],\n",
    "    tokenizer=tokenizer,\n",
    "    data_collator=data_collator\n",
    ")\n",
    "\n",
    "trainer.train()"
   ]
  },
  {
   "cell_type": "markdown",
   "id": "dcd4bda0",
   "metadata": {},
   "source": [
    "## 📈 Part 5: Evaluate and Predict"
   ]
  },
  {
   "cell_type": "code",
   "execution_count": 7,
   "id": "87e87ac0",
   "metadata": {},
   "outputs": [],
   "source": [
    "def predict_emotion(text):\n",
    "    inputs = tokenizer(text, return_tensors='pt', truncation=True, padding=True)\n",
    "    inputs = {k: v.to(model.device) for k, v in inputs.items()}\n",
    "    outputs = model(**inputs)\n",
    "    probs = outputs.logits.softmax(dim=-1).squeeze().tolist()\n",
    "    labels = dataset['train'].features['label'].names\n",
    "    predicted = labels[probs.index(max(probs))]\n",
    "    print(f\"\\n📝 Input: {text}\")\n",
    "    print(f\"🤖 Predicted Emotion: {predicted} ({max(probs)*100:.2f}% confidence)\")\n",
    "    print(f\"📊 Probabilities: {dict(zip(labels, [f'{p:.3f}' for p in probs]))}\")"
   ]
  },
  {
   "cell_type": "code",
   "execution_count": 13,
   "id": "537ede6f",
   "metadata": {},
   "outputs": [
    {
     "name": "stdout",
     "output_type": "stream",
     "text": [
      "\n",
      "📝 Input: I can't believe you did that!\n",
      "🤖 Predicted Emotion: anger (58.01% confidence)\n",
      "📊 Probabilities: {'sadness': '0.024', 'joy': '0.343', 'love': '0.004', 'anger': '0.580', 'fear': '0.024', 'surprise': '0.024'}\n"
     ]
    }
   ],
   "source": [
    "# write in your own statement to evaluate the model!\n",
    "predict_emotion(\"I can't believe you did that!\")"
   ]
  },
  {
   "cell_type": "markdown",
   "id": "660198ad",
   "metadata": {},
   "source": [
    "## 🔮 Part 6: Zero-Shot Classification Comparison"
   ]
  },
  {
   "cell_type": "markdown",
   "id": "7846ceb5",
   "metadata": {},
   "source": [
    "Zero-shot classification uses a model trained on **Natural Language Inference** to label text without any additional training. We'll use `facebook/bart-large-mnli`, which can reason about label descriptions."
   ]
  },
  {
   "cell_type": "code",
   "execution_count": 12,
   "id": "e1a3b01c",
   "metadata": {},
   "outputs": [
    {
     "name": "stderr",
     "output_type": "stream",
     "text": [
      "Xet Storage is enabled for this repo, but the 'hf_xet' package is not installed. Falling back to regular HTTP download. For better performance, install the package with: `pip install huggingface_hub[hf_xet]` or `pip install hf_xet`\n",
      "Device set to use cuda:0\n"
     ]
    },
    {
     "name": "stdout",
     "output_type": "stream",
     "text": [
      "\n",
      "📝 Input: I can’t believe you did that!\n",
      "🤖 Predicted: surprise (66.37% confidence)\n"
     ]
    }
   ],
   "source": [
    "from transformers import pipeline\n",
    "zero_shot = pipeline('zero-shot-classification', model='facebook/bart-large-mnli')\n",
    "\n",
    "candidate_labels = dataset['train'].features['label'].names\n",
    "text = \"I can’t believe you did that!\"\n",
    "result = zero_shot(text, candidate_labels=candidate_labels)\n",
    "print(f\"\\n📝 Input: {text}\")\n",
    "print(f\"🤖 Predicted: {result['labels'][0]} ({result['scores'][0]*100:.2f}% confidence)\")"
   ]
  },
  {
   "cell_type": "markdown",
   "id": "358add59",
   "metadata": {},
   "source": [
    "### 💬 Discussion: Compare the results from your fine-tuned model and the zero-shot model. Do they agree? Does one make more sense to you than the other?"
   ]
  },
  {
   "cell_type": "markdown",
   "id": "978d1b65",
   "metadata": {},
   "source": [
    "## Part 7: What’s Next?"
   ]
  },
  {
   "cell_type": "markdown",
   "id": "54c2bf2e",
   "metadata": {},
   "source": [
    "You’ve fine-tuned a real language model and explored zero-shot reasoning. What’s next?\n",
    "Here are some cool project ideas you can try:"
   ]
  },
  {
   "cell_type": "markdown",
   "id": "2c2dc054",
   "metadata": {},
   "source": [
    "| Task | Dataset | Link | Description |\n",
    "|------|---------|------|-------------|\n",
    "| Emotion Detection | `emotion` | [🔗](https://huggingface.co/datasets/emotion) | Classify tweets by emotional tone |\n",
    "| Sarcasm Detection | `sarcasm` | [🔗](https://huggingface.co/datasets/sarcasm) | Detect whether something is sarcastic |\n",
    "| Toxic Comments | `jigsaw_toxicity_pred` | [🔗](https://huggingface.co/datasets/jigsaw_toxicity_pred) | Label toxic or abusive language |\n",
    "| Tweet Tasks | `tweet_eval` | [🔗](https://huggingface.co/datasets/tweet_eval) | Sentiment, hate, stance, emojis |\n",
    "| News Topics | `ag_news` | [🔗](https://huggingface.co/datasets/ag_news) | Classify short news into topics |\n",
    "| Fake News | `liar` | [🔗](https://huggingface.co/datasets/liar) | Label political statements as true/false |\n",
    "| Dialogue Emotion | `daily_dialog` | [🔗](https://huggingface.co/datasets/daily_dialog) | Intent and emotion in conversations |\n",
    "| Hate Speech | `hate_speech18` | [🔗](https://huggingface.co/datasets/hate_speech18) | Detect hate in text posts |"
   ]
  },
  {
   "cell_type": "markdown",
   "id": "df204b84",
   "metadata": {},
   "source": [
    "## 🌍 How to Keep Exploring\n",
    "\n",
    "Now that you've fine-tuned and evaluated your first model, here’s how you can take your skills even further:\n",
    "\n",
    "- 🔎 **Explore new datasets**: [Hugging Face Datasets Hub](https://huggingface.co/datasets)\n",
    "- 🧠 **Try different models**: [Hugging Face Models Hub](https://huggingface.co/models)\n",
    "- 📚 **Read the docs**: [Transformers Documentation](https://huggingface.co/docs/transformers)\n",
    "- 💻 **Use GPUs for free**: Google Colab provides a free GPU runtime — perfect for experimenting.\n",
    "- 🚀 **Share your work**: Upload your model to [Hugging Face Hub](https://huggingface.co/docs/hub) or build a simple demo with [Gradio](https://www.gradio.app/) or [Hugging Face Spaces](https://huggingface.co/spaces)."
   ]
  },
  {
   "cell_type": "markdown",
   "id": "44277038",
   "metadata": {},
   "source": [
    "## 💡 Project Ideas by Theme\n",
    "\n",
    "If you're looking for inspiration, here are a few directions you can take your next model:\n",
    "\n",
    "| Theme | Ideas |\n",
    "|-------|-------|\n",
    "| 💬 Emotion / Mental Health | Detect mood in journaling apps, supportive chatbot for students |\n",
    "| ⚠️ Content Moderation | Toxic comment filter, hate speech detector, safe content assistant |\n",
    "| ✨ Creativity | Poetry classifier, sarcasm generator, meme captioner |\n",
    "| 🎮 Games & Fun | NPC emotion predictor, story tone classifier, in-game chat sentiment |\n",
    "| 📢 Advocacy | Fake news detector, flag biased language, classify protest messaging |\n",
    "| 🗣️ Cultural NLP | Analyze slang, code-switching detection, dialect identification |"
   ]
  }
 ],
 "metadata": {
  "kernelspec": {
   "display_name": ".venv",
   "language": "python",
   "name": "python3"
  },
  "language_info": {
   "codemirror_mode": {
    "name": "ipython",
    "version": 3
   },
   "file_extension": ".py",
   "mimetype": "text/x-python",
   "name": "python",
   "nbconvert_exporter": "python",
   "pygments_lexer": "ipython3",
   "version": "3.12.3"
  }
 },
 "nbformat": 4,
 "nbformat_minor": 5
}
