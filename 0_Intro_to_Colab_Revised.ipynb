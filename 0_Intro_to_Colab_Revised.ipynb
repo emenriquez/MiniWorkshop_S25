{
 "cells": [
  {
   "cell_type": "markdown",
   "id": "4044b6d0",
   "metadata": {},
   "source": [
    "# Getting Started with Google Colab for AI\n",
    "Welcome to the AI Workshop! 👋\n",
    "\n",
    "In this notebook, you'll be able to:\n",
    "- Learn how to use Google Colab\n",
    "- Check that your environment is set up correctly\n",
    "- Verify that PyTorch and GPU support are available\n",
    "\n",
    "Before we start, make sure you're logged into your Google account."
   ]
  },
  {
   "cell_type": "markdown",
   "id": "621ce27e",
   "metadata": {},
   "source": [
    "### 🎯 Learning Goals\n",
    "By the end of this notebook, you'll be able to:\n",
    "- Understand what a Colab notebook is and how to run it\n",
    "- Use code cells and markdown cells\n",
    "- Verify your Colab runtime and environment\n",
    "- Install and import basic libraries like PyTorch"
   ]
  },
  {
   "cell_type": "markdown",
   "id": "0cb26348",
   "metadata": {},
   "source": [
    "## 🧠 What is a Python Notebook?\n",
    "A notebook is an interactive document where you can write and run code, add notes, and see results instantly. You can mix code, text, images, and even charts—all in one place!"
   ]
  },
  {
   "cell_type": "markdown",
   "id": "4e49e865",
   "metadata": {},
   "source": [
    "## 🧭 Navigating Colab Notebooks\n",
    "- Use `Shift+Enter` to run a cell\n",
    "- Use the `+ Code` or `+ Text` buttons to add new cells\n",
    "- Switch between code and markdown using the dropdown at the top-left of each cell\n",
    "- Save a copy to your own Drive using `File > Save a copy in Drive`"
   ]
  },
  {
   "cell_type": "markdown",
   "id": "f2a2f1cd",
   "metadata": {},
   "source": [
    "## ✅ Step 1: Check Your Runtime"
   ]
  },
  {
   "cell_type": "code",
   "execution_count": null,
   "id": "1cc73f39",
   "metadata": {},
   "outputs": [],
   "source": [
    "# This checks if PyTorch is installed and shows the version\n",
    "import torch\n",
    "print('✅ PyTorch is installed!')\n",
    "print('🔍 Version:', torch.__version__)"
   ]
  },
  {
   "cell_type": "code",
   "execution_count": null,
   "id": "a40dbb4b",
   "metadata": {},
   "outputs": [],
   "source": [
    "print('GPU available:', torch.cuda.is_available())"
   ]
  },
  {
   "cell_type": "code",
   "execution_count": null,
   "id": "bc0434ec",
   "metadata": {},
   "outputs": [],
   "source": [
    "# Optional: Show GPU details (if using GPU runtime)\n",
    "!nvidia-smi"
   ]
  },
  {
   "cell_type": "markdown",
   "id": "1f9c91c2",
   "metadata": {},
   "source": [
    "## 2. Basic Python Test"
   ]
  },
  {
   "cell_type": "code",
   "execution_count": null,
   "id": "dbc77720",
   "metadata": {},
   "outputs": [],
   "source": [
    "print(\"Hello, AI Workshop!\")"
   ]
  },
  {
   "cell_type": "code",
   "execution_count": null,
   "id": "f6382888",
   "metadata": {},
   "outputs": [],
   "source": [
    "def add(a, b):\n",
    "    return a + b\n",
    "\n",
    "print('2 + 3 =', add(2, 3))"
   ]
  },
  {
   "cell_type": "markdown",
   "id": "a876dd10",
   "metadata": {},
   "source": [
    "## 3. Basic PyTorch Check"
   ]
  },
  {
   "cell_type": "code",
   "execution_count": null,
   "id": "c0d7c427",
   "metadata": {},
   "outputs": [],
   "source": [
    "x = torch.tensor([1.0, 2.0, 3.0])\n",
    "print('Original tensor:', x)\n",
    "print('Tensor * 2:', x * 2)"
   ]
  },
  {
   "cell_type": "markdown",
   "id": "0951d8f6",
   "metadata": {},
   "source": [
    "## 4. Try It Yourself: Change and Run Code\n",
    "Below is a simple code cell. Change the number and run the cell to see what happens!"
   ]
  },
  {
   "cell_type": "code",
   "execution_count": null,
   "id": "32858eee",
   "metadata": {},
   "outputs": [],
   "source": [
    "# Change the number below and run this cell!\n",
    "number = 7\n",
    "print(\"Your number plus 10 is:\", number + 10)"
   ]
  },
  {
   "cell_type": "markdown",
   "id": "f7e13021",
   "metadata": {},
   "source": [
    "## 5. Visual Output: Plotting a Simple Graph\n",
    "Notebooks are great for visualizing data. Let's plot a simple graph!"
   ]
  },
  {
   "cell_type": "code",
   "execution_count": null,
   "id": "d99f68fb",
   "metadata": {},
   "outputs": [],
   "source": [
    "# Import necessary libraries for plotting and numerical operations\n",
    "import matplotlib.pyplot as plt\n",
    "import numpy as np\n",
    "\n",
    "# Create 100 values between 0 and 10 (inclusive)\n",
    "x = np.linspace(0, 10, 100)  # Think of this as generating a smooth line\n",
    "# Compute the sine of each x value\n",
    "y = np.sin(x)\n",
    "\n",
    "# Plot x vs. y (sine curve)\n",
    "plt.plot(x, y)\n",
    "plt.title('A Simple Sine Wave')  # Chart title\n",
    "plt.xlabel('x')  # Label for x-axis\n",
    "plt.ylabel('sin(x)')  # Label for y-axis\n",
    "plt.show()  # Display the plot"
   ]
  },
  {
   "cell_type": "markdown",
   "id": "0075b89a",
   "metadata": {},
   "source": [
    "💡 **Did you know?**\n",
    "You can add emojis, images, and even LaTeX math in markdown cells! Try double-clicking to edit this cell or adding your own below. 🎉"
   ]
  },
  {
   "cell_type": "markdown",
   "id": "f02510a4",
   "metadata": {},
   "source": [
    "## 6. Additional Resources\n",
    "- [Google Colab Documentation](https://research.google.com/colaboratory/faq.html)\n",
    "- [PyTorch Quickstart](https://pytorch.org/tutorials/beginner/basics/quickstart_tutorial.html)\n",
    "- [Hugging Face Transformers](https://huggingface.co/docs/transformers/index)"
   ]
  },
  {
   "cell_type": "code",
   "execution_count": null,
   "id": "af1957d3",
   "metadata": {},
   "outputs": [],
   "source": [
    "# This is a code cell. Try writing some Python here!"
   ]
  },
  {
   "cell_type": "markdown",
   "id": "0aec9ef4",
   "metadata": {},
   "source": [
    "## 🎉 You're Ready to Move On!\n",
    "Great job getting set up! You've learned how to use Colab and checked that your environment is ready.\n",
    "\n",
    "**Next up:** We'll build our first neural network from scratch in the `Student Success Neural Network` notebook.\n",
    "\n",
    "👉 Go ahead and open the next notebook to start building!"
   ]
  }
 ],
 "metadata": {
  "kernelspec": {
   "display_name": ".venv",
   "language": "python",
   "name": "python3"
  },
  "language_info": {
   "codemirror_mode": {
    "name": "ipython",
    "version": 3
   },
   "file_extension": ".py",
   "mimetype": "text/x-python",
   "name": "python",
   "nbconvert_exporter": "python",
   "pygments_lexer": "ipython3",
   "version": "3.12.3"
  }
 },
 "nbformat": 4,
 "nbformat_minor": 5
}
